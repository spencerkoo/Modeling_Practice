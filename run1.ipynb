{
 "cells": [
  {
   "cell_type": "code",
   "execution_count": 1,
   "metadata": {
    "collapsed": true
   },
   "outputs": [],
   "source": [
    "import pandas as pd\n",
    "import numpy as np\n",
    "import datetime\n",
    "\n",
    "df = pd.read_csv('training.tsv', sep='\\t', names = ['id', 'date', 'action'])"
   ]
  },
  {
   "cell_type": "code",
   "execution_count": 2,
   "metadata": {
    "collapsed": true
   },
   "outputs": [],
   "source": [
    "df['purchased'] = df['action'].str.count('Purchase')\n",
    "df['total_purchased'] = df.groupby('id')['purchased'].transform(sum)"
   ]
  },
  {
   "cell_type": "code",
   "execution_count": 3,
   "metadata": {
    "collapsed": true
   },
   "outputs": [],
   "source": [
    "df['has_purchased'] = np.where((df['total_purchased'] > 0),\n",
    "                                     1, 0)"
   ]
  },
  {
   "cell_type": "code",
   "execution_count": 4,
   "metadata": {
    "collapsed": true
   },
   "outputs": [],
   "source": [
    "df['total_actions'] = df.groupby('id')['action'].transform('count')"
   ]
  },
  {
   "cell_type": "code",
   "execution_count": 5,
   "metadata": {
    "collapsed": true
   },
   "outputs": [],
   "source": [
    "# Find total number of email open actions per user\n",
    "df['email_open'] = df['action'].str.count('EmailOpen')\n",
    "df['total_email_open'] = df.groupby('id')['email_open'].transform(sum)\n",
    "# Flag those users with purchases\n",
    "df['has_email_open'] = np.where((df['total_email_open'] > 0),\n",
    "                                     1, 0)"
   ]
  },
  {
   "cell_type": "code",
   "execution_count": 6,
   "metadata": {
    "collapsed": true
   },
   "outputs": [],
   "source": [
    "# Find total number of form submit actions per user\n",
    "df['form_submit'] = df['action'].str.count('FormSubmit')\n",
    "df['total_form_submit'] = df.groupby('id')['form_submit'].transform(sum)\n",
    "# Flag those users with purchases\n",
    "df['has_form_submit'] = np.where((df['total_form_submit'] > 0),\n",
    "                                     1, 0)"
   ]
  },
  {
   "cell_type": "code",
   "execution_count": 7,
   "metadata": {
    "collapsed": true
   },
   "outputs": [],
   "source": [
    "temp1 = df.drop_duplicates(subset = 'id')\n",
    "temp1.to_csv('temp1.csv')"
   ]
  }
 ],
 "metadata": {
  "kernelspec": {
   "display_name": "Python 2",
   "language": "python",
   "name": "python2"
  },
  "language_info": {
   "codemirror_mode": {
    "name": "ipython",
    "version": 2
   },
   "file_extension": ".py",
   "mimetype": "text/x-python",
   "name": "python",
   "nbconvert_exporter": "python",
   "pygments_lexer": "ipython2",
   "version": "2.7.12"
  }
 },
 "nbformat": 4,
 "nbformat_minor": 2
}
