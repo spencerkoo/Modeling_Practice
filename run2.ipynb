{
 "cells": [
  {
   "cell_type": "code",
   "execution_count": 1,
   "metadata": {
    "collapsed": true
   },
   "outputs": [],
   "source": [
    "import pandas as pd\n",
    "import numpy as np\n",
    "import datetime\n",
    "\n",
    "df = pd.read_csv('training.tsv', sep='\\t', names = ['id', 'date', 'action'])"
   ]
  },
  {
   "cell_type": "code",
   "execution_count": 2,
   "metadata": {
    "collapsed": true
   },
   "outputs": [],
   "source": [
    "# Find total number of email click through actions per user\n",
    "df['email_click_thru'] = df['action'].str.count('EmailClickthrough')\n",
    "df['total_email_click_thru'] = df.groupby('id')['email_click_thru'].transform(sum)\n",
    "# Flag those users with purchases\n",
    "df['has_email_click_thru'] = np.where((df['total_email_click_thru'] > 0),\n",
    "                                     1, 0)"
   ]
  },
  {
   "cell_type": "code",
   "execution_count": 3,
   "metadata": {
    "collapsed": true
   },
   "outputs": [],
   "source": [
    "# Find total number of customer support actions per user\n",
    "df['cust_sup'] = df['action'].str.count('CustomerSupport')\n",
    "df['total_cust_sup'] = df.groupby('id')['cust_sup'].transform(sum)\n",
    "# Flag those users with purchases\n",
    "df['has_cust_sup'] = np.where((df['total_cust_sup'] > 0),\n",
    "                                     1, 0)"
   ]
  },
  {
   "cell_type": "code",
   "execution_count": 4,
   "metadata": {
    "collapsed": true
   },
   "outputs": [],
   "source": [
    "temp2 = df.drop_duplicates(subset = 'id')\n",
    "temp2.to_csv('temp2.csv')"
   ]
  }
 ],
 "metadata": {
  "kernelspec": {
   "display_name": "Python 2",
   "language": "python",
   "name": "python2"
  },
  "language_info": {
   "codemirror_mode": {
    "name": "ipython",
    "version": 2
   },
   "file_extension": ".py",
   "mimetype": "text/x-python",
   "name": "python",
   "nbconvert_exporter": "python",
   "pygments_lexer": "ipython2",
   "version": "2.7.12"
  }
 },
 "nbformat": 4,
 "nbformat_minor": 2
}
