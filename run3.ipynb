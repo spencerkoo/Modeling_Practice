{
 "cells": [
  {
   "cell_type": "code",
   "execution_count": 2,
   "metadata": {
    "collapsed": true
   },
   "outputs": [],
   "source": [
    "import pandas as pd\n",
    "import numpy as np\n",
    "import datetime\n",
    "\n",
    "df = pd.read_csv('training.tsv', sep='\\t', names = ['id', 'date', 'action'])"
   ]
  },
  {
   "cell_type": "code",
   "execution_count": 3,
   "metadata": {
    "collapsed": true
   },
   "outputs": [],
   "source": [
    "# Find total number of page view actions per user\n",
    "df['page_view'] = df['action'].str.count('PageView')\n",
    "df['total_page_view'] = df.groupby('id')['page_view'].transform(sum)\n",
    "# Flag those users with purchases\n",
    "df['has_page_view'] = np.where((df['total_page_view'] > 0),\n",
    "                                     1, 0)"
   ]
  },
  {
   "cell_type": "code",
   "execution_count": 4,
   "metadata": {
    "collapsed": true
   },
   "outputs": [],
   "source": [
    "# Find total number of web view actions per user\n",
    "df['web_view'] = df['action'].str.count('WebView')\n",
    "df['total_web_view'] = df.groupby('id')['web_view'].transform(sum)\n",
    "# Flag those users with purchases\n",
    "df['has_web_view'] = np.where((df['total_web_view'] > 0),\n",
    "                                     1, 0)"
   ]
  },
  {
   "cell_type": "code",
   "execution_count": 5,
   "metadata": {
    "collapsed": false
   },
   "outputs": [],
   "source": [
    "temp3 = df.drop_duplicates(subset = 'id')\n",
    "temp3.to_csv('temp3.csv')"
   ]
  }
 ],
 "metadata": {
  "kernelspec": {
   "display_name": "Python 2",
   "language": "python",
   "name": "python2"
  },
  "language_info": {
   "codemirror_mode": {
    "name": "ipython",
    "version": 2
   },
   "file_extension": ".py",
   "mimetype": "text/x-python",
   "name": "python",
   "nbconvert_exporter": "python",
   "pygments_lexer": "ipython2",
   "version": "2.7.12"
  }
 },
 "nbformat": 4,
 "nbformat_minor": 2
}
